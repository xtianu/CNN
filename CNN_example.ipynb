{
  "nbformat": 4,
  "nbformat_minor": 0,
  "metadata": {
    "colab": {
      "name": "CNN_example.ipynb",
      "provenance": [],
      "collapsed_sections": [],
      "include_colab_link": true
    },
    "kernelspec": {
      "name": "python3",
      "display_name": "Python 3"
    }
  },
  "cells": [
    {
      "cell_type": "markdown",
      "metadata": {
        "id": "view-in-github",
        "colab_type": "text"
      },
      "source": [
        "<a href=\"https://colab.research.google.com/github/xtianu/CNN/blob/main/CNN_example.ipynb\" target=\"_parent\"><img src=\"https://colab.research.google.com/assets/colab-badge.svg\" alt=\"Open In Colab\"/></a>"
      ]
    },
    {
      "cell_type": "code",
      "metadata": {
        "id": "milUEhdq0NjI"
      },
      "source": [
        "# *************************** CNN EXAMPLE **************************************\n",
        "#                 (Convolutional Neural Network (CNN))\n",
        "# Author: Christian Mata\n",
        "# Version: 1.0\n",
        "\n",
        "# Description: This program is a CNN example in order to classify images. \n",
        "#              It is using a KERAS dependencies"
      ],
      "execution_count": 44,
      "outputs": []
    },
    {
      "cell_type": "code",
      "metadata": {
        "id": "6FRpffqA8eMx"
      },
      "source": [
        "# # -------------------------- STEP 1: INSTALL ---------------------------------\n",
        "#\n",
        "# KERAS install the dependencies / packages. \n",
        "# If you don’t already have these packages installed, run the following command\n",
        "# in your terminal, command prompt or, Google Colab website \n",
        "# (depending on where you have your python programming language installed).\n",
        "\n",
        "# i.e. ---->  pip install tensorflow keras numpy skimage matplotlib"
      ],
      "execution_count": 45,
      "outputs": []
    },
    {
      "cell_type": "code",
      "metadata": {
        "id": "CE8y80GO0Zd1",
        "colab": {
          "base_uri": "https://localhost:8080/"
        },
        "outputId": "9bb327da-6f57-4733-adf9-61766a52df5d"
      },
      "source": [
        "pip install keras"
      ],
      "execution_count": 46,
      "outputs": [
        {
          "output_type": "stream",
          "name": "stdout",
          "text": [
            "Requirement already satisfied: keras in /usr/local/lib/python3.7/dist-packages (2.7.0)\n"
          ]
        }
      ]
    },
    {
      "cell_type": "code",
      "metadata": {
        "id": "nthb-8XT9nLR"
      },
      "source": [
        "# -------------------------- STEP 2: PRE-PROCESSING ----------------------------\n",
        "\n",
        "# *************************** Load data ****************************************\n",
        "#\n",
        "# load the data set into the variables x_train (the variable that contains the \n",
        "# images to train on), \n",
        "# y_train (the variable that contains the labels of the images in the training \n",
        "# set), \n",
        "# x_test (the variable that contains the images to test on), and the y_test \n",
        "# (the variable that contains the labels of the images in the test set)."
      ],
      "execution_count": 5,
      "outputs": []
    },
    {
      "cell_type": "code",
      "metadata": {
        "id": "U7aH-XjV00Kx"
      },
      "source": [
        "#Load the data\n",
        "from keras.datasets import cifar10\n",
        "(x_train, y_train), (x_test, y_test) = cifar10.load_data()"
      ],
      "execution_count": 47,
      "outputs": []
    },
    {
      "cell_type": "code",
      "metadata": {
        "id": "8cV1FbId8xIF"
      },
      "source": [
        "# *************************** Explore the data *********************************\n",
        "#\n",
        "# Print the data type of the loaded data sets. This will let us know what type \n",
        "# of data we are working with."
      ],
      "execution_count": 21,
      "outputs": []
    },
    {
      "cell_type": "code",
      "metadata": {
        "id": "-qTN1JJQ1lP2",
        "colab": {
          "base_uri": "https://localhost:8080/"
        },
        "outputId": "6653f60b-c413-4c0c-dc69-7e4d1e0c009a"
      },
      "source": [
        "#Print the data type of x_train\n",
        "print(type(x_train))#Print the data type of y_train\n",
        "print(type(y_train))#Print the data type of x_test\n",
        "print(type(x_test))#Print the data type of y_test\n",
        "print(type(y_test))"
      ],
      "execution_count": 48,
      "outputs": [
        {
          "output_type": "stream",
          "name": "stdout",
          "text": [
            "<class 'numpy.ndarray'>\n",
            "<class 'numpy.ndarray'>\n",
            "<class 'numpy.ndarray'>\n",
            "<class 'numpy.ndarray'>\n"
          ]
        }
      ]
    },
    {
      "cell_type": "code",
      "metadata": {
        "id": "EJxpQHjh_QEB"
      },
      "source": [
        "# Get the shape of the x_train , y_train , x_test and y_test data. You will \n",
        "# notice that the shape of the x_train data set is a 4-Dimensional array with \n",
        "# 50,000 rows of 32 x 32 pixel image with depth = 3 (RGB) where R is Red, \n",
        "# G is Green, and B is Blue. The y_train data shape is a 2-Dimensional array \n",
        "# with 50,000 rows and 1 column. The shape of the x_test data set is a 4-Dimens. \n",
        "# array with 10,000 rows of 32 x 32 pixel image with depth = 3 (RGB). \n",
        "# The y_test data shape is a 2-Dimensional array with 10,000 rows and 1 column.\n"
      ],
      "execution_count": 49,
      "outputs": []
    },
    {
      "cell_type": "markdown",
      "metadata": {
        "id": "h9TW--T6_aGs"
      },
      "source": [
        "![alt text](https://miro.medium.com/max/430/1*aI0t2dCC8uq-ARnwWiGZkQ.png)\n",
        "\n",
        "RGB values in each pixel cell. Source: http://shutha.org/node/789"
      ]
    },
    {
      "cell_type": "code",
      "metadata": {
        "id": "Cx9fT-To5dD4",
        "colab": {
          "base_uri": "https://localhost:8080/"
        },
        "outputId": "bedfe446-b7ac-47a7-bbd7-4288572b21f1"
      },
      "source": [
        "#Get the shape of x_train\n",
        "print('x_train shape:', x_train.shape)#Get the shape of y_train\n",
        "print('y_train shape:', y_train.shape)#Get the shape of x_train\n",
        "print('x_test shape:', x_test.shape)#Get the shape of y_train\n",
        "print('y_test shape:', y_test.shape)"
      ],
      "execution_count": 50,
      "outputs": [
        {
          "output_type": "stream",
          "name": "stdout",
          "text": [
            "x_train shape: (50000, 32, 32, 3)\n",
            "y_train shape: (50000, 1)\n",
            "x_test shape: (10000, 32, 32, 3)\n",
            "y_test shape: (10000, 1)\n"
          ]
        }
      ]
    },
    {
      "cell_type": "code",
      "metadata": {
        "id": "qyNHbu4655lb",
        "colab": {
          "base_uri": "https://localhost:8080/"
        },
        "outputId": "5c17fdfb-2000-4d85-ff8e-50fab33697c3"
      },
      "source": [
        "# Take a look at the first image (at index=0) in the training data set as \n",
        "# a numpy array This shows the image as a series of pixel values.\n",
        "x_train[0]"
      ],
      "execution_count": 51,
      "outputs": [
        {
          "output_type": "execute_result",
          "data": {
            "text/plain": [
              "array([[[ 59,  62,  63],\n",
              "        [ 43,  46,  45],\n",
              "        [ 50,  48,  43],\n",
              "        ...,\n",
              "        [158, 132, 108],\n",
              "        [152, 125, 102],\n",
              "        [148, 124, 103]],\n",
              "\n",
              "       [[ 16,  20,  20],\n",
              "        [  0,   0,   0],\n",
              "        [ 18,   8,   0],\n",
              "        ...,\n",
              "        [123,  88,  55],\n",
              "        [119,  83,  50],\n",
              "        [122,  87,  57]],\n",
              "\n",
              "       [[ 25,  24,  21],\n",
              "        [ 16,   7,   0],\n",
              "        [ 49,  27,   8],\n",
              "        ...,\n",
              "        [118,  84,  50],\n",
              "        [120,  84,  50],\n",
              "        [109,  73,  42]],\n",
              "\n",
              "       ...,\n",
              "\n",
              "       [[208, 170,  96],\n",
              "        [201, 153,  34],\n",
              "        [198, 161,  26],\n",
              "        ...,\n",
              "        [160, 133,  70],\n",
              "        [ 56,  31,   7],\n",
              "        [ 53,  34,  20]],\n",
              "\n",
              "       [[180, 139,  96],\n",
              "        [173, 123,  42],\n",
              "        [186, 144,  30],\n",
              "        ...,\n",
              "        [184, 148,  94],\n",
              "        [ 97,  62,  34],\n",
              "        [ 83,  53,  34]],\n",
              "\n",
              "       [[177, 144, 116],\n",
              "        [168, 129,  94],\n",
              "        [179, 142,  87],\n",
              "        ...,\n",
              "        [216, 184, 140],\n",
              "        [151, 118,  84],\n",
              "        [123,  92,  72]]], dtype=uint8)"
            ]
          },
          "metadata": {},
          "execution_count": 51
        }
      ]
    },
    {
      "cell_type": "code",
      "metadata": {
        "id": "b46QpMGi6Rmp",
        "colab": {
          "base_uri": "https://localhost:8080/",
          "height": 266
        },
        "outputId": "619f25c8-28b6-4900-d5a8-1440764975db"
      },
      "source": [
        "# Show the image as an image instead of a series of pixel values using: \n",
        "# matplotlib.\n",
        "import matplotlib.pyplot as plt\n",
        "img = plt.imshow(x_train[4])"
      ],
      "execution_count": 52,
      "outputs": [
        {
          "output_type": "display_data",
          "data": {
            "image/png": "[encoded data removed]",
            "text/plain": [
              "<Figure size 432x288 with 1 Axes>"
            ]
          },
          "metadata": {
            "needs_background": "light"
          }
        }
      ]
    },
    {
      "cell_type": "code",
      "metadata": {
        "id": "UrAXwymH6hQn",
        "colab": {
          "base_uri": "https://localhost:8080/"
        },
        "outputId": "dad35d12-0ac2-4866-a076-215098c15eb3"
      },
      "source": [
        "# Print the label of the image. Notice the label printed was the number 6 \n",
        "# which corresponds to the frog label.\n",
        "print('The label is:', y_train[4])"
      ],
      "execution_count": 53,
      "outputs": [
        {
          "output_type": "stream",
          "name": "stdout",
          "text": [
            "The label is: [1]\n"
          ]
        }
      ]
    },
    {
      "cell_type": "markdown",
      "metadata": {
        "id": "P0XuDDzk6x3r"
      },
      "source": [
        "![alt text](https://miro.medium.com/max/608/1*P4S0Tq7JbZVRjH_xctS-Rg.png)"
      ]
    },
    {
      "cell_type": "code",
      "metadata": {
        "id": "RBvx-HJb7Vqh"
      },
      "source": [
        "# *************************** Encoding data ************************************\n",
        "#\n",
        "# Use One-Hot Encoding to convert the labels into a set of 10 numbers to input \n",
        "# into the neural network. The numbers of course corresponds with the number of \n",
        "# labels to classify the images.\n",
        "#from keras.utils import to_categorical\n",
        "from tensorflow.keras.utils import to_categorical\n",
        "y_train_one_hot = to_categorical(y_train)\n",
        "y_test_one_hot = to_categorical(y_test)"
      ],
      "execution_count": 55,
      "outputs": []
    },
    {
      "cell_type": "code",
      "metadata": {
        "id": "-6RcYc1n7n--",
        "colab": {
          "base_uri": "https://localhost:8080/"
        },
        "outputId": "3a1db3cf-785d-40f3-9a0c-ec3d21470386"
      },
      "source": [
        "# Print all of the new labels in the training data set.\n",
        "print(y_train_one_hot)"
      ],
      "execution_count": 57,
      "outputs": [
        {
          "output_type": "stream",
          "name": "stdout",
          "text": [
            "[[0. 0. 0. ... 0. 0. 0.]\n",
            " [0. 0. 0. ... 0. 0. 1.]\n",
            " [0. 0. 0. ... 0. 0. 1.]\n",
            " ...\n",
            " [0. 0. 0. ... 0. 0. 1.]\n",
            " [0. 1. 0. ... 0. 0. 0.]\n",
            " [0. 1. 0. ... 0. 0. 0.]]\n"
          ]
        }
      ]
    },
    {
      "cell_type": "code",
      "metadata": {
        "id": "7fLBsefI7y74",
        "colab": {
          "base_uri": "https://localhost:8080/"
        },
        "outputId": "6ee93639-01aa-4818-c4bf-4f74730ebada"
      },
      "source": [
        "# Print an examp. of the new labels using the 1st image in the training data set\n",
        "# NOTE: The label 6 = [0,0,0,0,0,0,1,0,0,0]\n",
        "print('The one hot label is:', y_train_one_hot[1])"
      ],
      "execution_count": 58,
      "outputs": [
        {
          "output_type": "stream",
          "name": "stdout",
          "text": [
            "The one hot label is: [0. 0. 0. 0. 0. 0. 0. 0. 0. 1.]\n"
          ]
        }
      ]
    },
    {
      "cell_type": "code",
      "metadata": {
        "id": "3lx9V_V_78m6"
      },
      "source": [
        "# *************************** Normalization data *******************************\n",
        "#\n",
        "# Normalize the pixels in the images to be a value between 0 and 1, \n",
        "# they are normally values between 0 and 255, doing this will help the NN.\n",
        "x_train = x_train / 255\n",
        "x_test = x_test / 255"
      ],
      "execution_count": 59,
      "outputs": []
    },
    {
      "cell_type": "code",
      "metadata": {
        "id": "EBXBlZO0BnXz"
      },
      "source": [
        "# ----------- STEP 3: Build The Convolution Neural Network Model  --------------\n",
        "# \n",
        "# ******************** Create the architecture *********************************\n",
        "# To build the model we need to create the architecture using Sequential() \n",
        "from keras.models import Sequential\n",
        "from keras.layers import Dense, Flatten, Conv2D, MaxPooling2D\n",
        "model = Sequential()"
      ],
      "execution_count": 60,
      "outputs": []
    },
    {
      "cell_type": "code",
      "metadata": {
        "id": "TXBFGg-vCWrK"
      },
      "source": [
        "# ******************* Extract features from the input image ********************\n",
        "# Next we add the first layer, a convolution layer to extract features from the \n",
        "# input image, and create 32 5 x 5 ReLu convoluted features also known as \n",
        "# feature maps. Since this is the first layer we must input the dimension shape \n",
        "# which is a 32 x 32 pixel image with depth = 3 (RGB).\n",
        "model.add(Conv2D(32, (5, 5), activation='relu', input_shape=(32,32,3)))"
      ],
      "execution_count": 61,
      "outputs": []
    },
    {
      "cell_type": "code",
      "metadata": {
        "id": "CjPKX66qJ_C8"
      },
      "source": [
        "# ****************** Reduce the dimension of the feature map *******************\n",
        "# The next layer will be a pooling layer with a 2 x 2 pixel filter to get \n",
        "# the max element from the feature maps. This reduces the dimension of the \n",
        "# feature maps by half and is also known as sub sampling.\n",
        "model.add(MaxPooling2D(pool_size=(2, 2)))\n"
      ],
      "execution_count": 62,
      "outputs": []
    },
    {
      "cell_type": "code",
      "metadata": {
        "id": "XMCt3QCwPt4o"
      },
      "source": [
        "# Create one more convolution layer and pooling layer like before, \n",
        "# but without the input_shape.\n",
        "model.add(Conv2D(64, (5, 5), activation='relu'))\n",
        "model.add(MaxPooling2D(pool_size=(2, 2)))"
      ],
      "execution_count": 63,
      "outputs": []
    },
    {
      "cell_type": "code",
      "metadata": {
        "id": "eDdyP80tP0Ez"
      },
      "source": [
        "# Add a flattening layer, to reduce the image to a linear array also known as a one 1-Dimension \n",
        "# vector to feed into and connect with the neural network.\n",
        "model.add(Flatten())"
      ],
      "execution_count": 64,
      "outputs": []
    },
    {
      "cell_type": "code",
      "metadata": {
        "id": "kk89iqs7QFzw"
      },
      "source": [
        "# Now create a neural network where the first layer has 1000 neurons \n",
        "# and the activation function ReLu.\n",
        "model.add(Dense(1000, activation='relu'))"
      ],
      "execution_count": 65,
      "outputs": []
    },
    {
      "cell_type": "code",
      "metadata": {
        "id": "bNePIvgaQVPW"
      },
      "source": [
        "# Create the last layer of this neural network with 10 neurons \n",
        "# (one for each label) using the softmax function.\n",
        "model.add(Dense(10, activation='softmax'))"
      ],
      "execution_count": 66,
      "outputs": []
    },
    {
      "cell_type": "markdown",
      "metadata": {
        "id": "YG5kiw2WQhFp"
      },
      "source": [
        "![alt text](https://miro.medium.com/max/2378/1*KutnZOXSPRk4R4-hlL_8yA.png)\n",
        "\n",
        "Convolutional Neural Network (CNN) that was built above as an image. Image taken from https://adventuresinmachinelearning.com/keras-tutorial-cnn-11-lines/"
      ]
    },
    {
      "cell_type": "code",
      "metadata": {
        "id": "VXw05_gmQr4X"
      },
      "source": [
        "# Compile the model. Give it the categorical_crossentropy loss function which \n",
        "# is used for classes greater than 2, the adam optimizer, \n",
        "# and the accuracy of the model.\n",
        "model.compile(loss='categorical_crossentropy', \n",
        "              optimizer='adam',\n",
        "              metrics=['accuracy'])"
      ],
      "execution_count": 67,
      "outputs": []
    },
    {
      "cell_type": "code",
      "metadata": {
        "id": "wd9geeFPRA1B",
        "colab": {
          "base_uri": "https://localhost:8080/"
        },
        "outputId": "2168ea92-d7bb-4013-ecbf-8dd6601e894f"
      },
      "source": [
        "# Train the model using the fit() method, which is another word for train. \n",
        "# We will train the model on the training data with batch size =256, epochs =10,\n",
        "# and split the data into training on 70% of the data and using the other 30%\n",
        "# as validation. Training may take some time to finish.\n",
        "\n",
        "#Batch: Total number of training examples present in a single batch\n",
        "\n",
        "#Epoch:The number of iterations when an ENTIRE dataset is passed forward and \n",
        "# backward through the neural network only ONCE.\n",
        "\n",
        "#Fit: Another word for train\n",
        "\n",
        "hist = model.fit(x_train, y_train_one_hot, \n",
        "batch_size=256, epochs=10, validation_split=0.3 )"
      ],
      "execution_count": 68,
      "outputs": [
        {
          "output_type": "stream",
          "name": "stdout",
          "text": [
            "Epoch 1/10\n",
            "137/137 [==============================] - 49s 356ms/step - loss: 1.6762 - accuracy: 0.3935 - val_loss: 1.4127 - val_accuracy: 0.4926\n",
            "Epoch 2/10\n",
            "137/137 [==============================] - 49s 355ms/step - loss: 1.3305 - accuracy: 0.5269 - val_loss: 1.2719 - val_accuracy: 0.5482\n",
            "Epoch 3/10\n",
            "137/137 [==============================] - 49s 355ms/step - loss: 1.2016 - accuracy: 0.5759 - val_loss: 1.1798 - val_accuracy: 0.5822\n",
            "Epoch 4/10\n",
            "137/137 [==============================] - 49s 356ms/step - loss: 1.0825 - accuracy: 0.6176 - val_loss: 1.1078 - val_accuracy: 0.6131\n",
            "Epoch 5/10\n",
            "137/137 [==============================] - 49s 356ms/step - loss: 1.0031 - accuracy: 0.6460 - val_loss: 1.0484 - val_accuracy: 0.6315\n",
            "Epoch 6/10\n",
            "137/137 [==============================] - 49s 357ms/step - loss: 0.9246 - accuracy: 0.6767 - val_loss: 1.0207 - val_accuracy: 0.6455\n",
            "Epoch 7/10\n",
            "137/137 [==============================] - 49s 356ms/step - loss: 0.8406 - accuracy: 0.7064 - val_loss: 0.9872 - val_accuracy: 0.6596\n",
            "Epoch 8/10\n",
            "137/137 [==============================] - 49s 356ms/step - loss: 0.7803 - accuracy: 0.7279 - val_loss: 0.9840 - val_accuracy: 0.6592\n",
            "Epoch 9/10\n",
            "137/137 [==============================] - 51s 371ms/step - loss: 0.7171 - accuracy: 0.7506 - val_loss: 0.9165 - val_accuracy: 0.6842\n",
            "Epoch 10/10\n",
            "137/137 [==============================] - 50s 368ms/step - loss: 0.6425 - accuracy: 0.7772 - val_loss: 0.9939 - val_accuracy: 0.6625\n"
          ]
        }
      ]
    },
    {
      "cell_type": "markdown",
      "metadata": {
        "id": "CmFsNyjTRXB-"
      },
      "source": [
        "![alt text](https://miro.medium.com/max/2750/1*V49HRkHiNhkXgojJotSqsg.png)\n",
        "\n",
        "Sample of training & model showing accuracy score of 80.32% on training data (**This accuracy can change for every test**)"
      ]
    },
    {
      "cell_type": "code",
      "metadata": {
        "id": "9KK_oCpKRqK6",
        "colab": {
          "base_uri": "https://localhost:8080/"
        },
        "outputId": "2481ff56-54ef-43f8-861e-3d55a308a5b3"
      },
      "source": [
        "# ----------------- STEP 4: Analysis --------------------------\n",
        "# Get the models accuracy on the test data.\n",
        "model.evaluate(x_test, y_test_one_hot)[1]"
      ],
      "execution_count": 69,
      "outputs": [
        {
          "output_type": "stream",
          "name": "stdout",
          "text": [
            "313/313 [==============================] - 5s 15ms/step - loss: 1.0257 - accuracy: 0.6529\n"
          ]
        },
        {
          "output_type": "execute_result",
          "data": {
            "text/plain": [
              "0.652899980545044"
            ]
          },
          "metadata": {},
          "execution_count": 69
        }
      ]
    },
    {
      "cell_type": "markdown",
      "metadata": {
        "id": "tBN0XJhgFJuL"
      },
      "source": [
        "![alt text](https://miro.medium.com/max/1892/1*EOATM_PWwYKmDcO0pX699w.png)\n",
        "\n",
        "he models accuracy is 67.36% on the test data"
      ]
    },
    {
      "cell_type": "code",
      "metadata": {
        "id": "dvfj2idwFRAx",
        "colab": {
          "base_uri": "https://localhost:8080/",
          "height": 295
        },
        "outputId": "42e33ed4-34c8-412b-91ff-177233dfaf25"
      },
      "source": [
        "# ****************** Visualize the models accuracy ****************\n",
        "# Visualize the models accuracy for both the training and validation data.\n",
        "#Visualize the models accuracy\n",
        "plt.plot(hist.history['accuracy'])\n",
        "plt.plot(hist.history['val_accuracy'])\n",
        "plt.title('Model accuracy')\n",
        "plt.ylabel('Accuracy')\n",
        "plt.xlabel('Epoch')\n",
        "plt.legend(['Train', 'Val'], loc='upper left')\n",
        "plt.show()\n"
      ],
      "execution_count": 71,
      "outputs": [
        {
          "output_type": "display_data",
          "data": {
            "image/png": "[encoded data removed]",
            "text/plain": [
              "<Figure size 432x288 with 1 Axes>"
            ]
          },
          "metadata": {
            "needs_background": "light"
          }
        }
      ]
    },
    {
      "cell_type": "markdown",
      "metadata": {
        "id": "8b2FHMLfLcbg"
      },
      "source": [
        "![alt text](https://miro.medium.com/max/1624/1*wAhjmekNY8yn2K3eXheFUA.png)\n",
        "\n",
        "A visualization of the models accuracy for training and validation set"
      ]
    },
    {
      "cell_type": "code",
      "metadata": {
        "id": "ra0GR7dyHiO0",
        "colab": {
          "base_uri": "https://localhost:8080/",
          "height": 295
        },
        "outputId": "ddbdfadb-e83d-4e38-aa6c-553b82aaf354"
      },
      "source": [
        "# Visualize the models loss for both the training and validation data\n",
        "#Visualize the models loss\n",
        "plt.plot(hist.history['loss'])\n",
        "plt.plot(hist.history['val_loss'])\n",
        "plt.title('Model loss')\n",
        "plt.ylabel('Loss')\n",
        "plt.xlabel('Epoch')\n",
        "plt.legend(['Train', 'Val'], loc='upper right')\n",
        "plt.show()"
      ],
      "execution_count": 72,
      "outputs": [
        {
          "output_type": "display_data",
          "data": {
            "image/png": "[encoded data removed]",
            "text/plain": [
              "<Figure size 432x288 with 1 Axes>"
            ]
          },
          "metadata": {
            "needs_background": "light"
          }
        }
      ]
    },
    {
      "cell_type": "markdown",
      "metadata": {
        "id": "acDXFyR0Ln3X"
      },
      "source": [
        "![alt text](https://miro.medium.com/max/1654/1*F0bMAIPluwHSgowJmqCWrA.png)\n",
        "\n",
        "A visualization of the models loss for training and validation set"
      ]
    },
    {
      "cell_type": "code",
      "source": [
        "from google.colab import drive\n",
        "drive.mount('/content/drive')"
      ],
      "metadata": {
        "colab": {
          "base_uri": "https://localhost:8080/"
        },
        "id": "DmDEjRsx4VYS",
        "outputId": "eda77f03-b4ce-4f67-e8b1-74d24fdff8c2"
      },
      "execution_count": 74,
      "outputs": [
        {
          "output_type": "stream",
          "name": "stdout",
          "text": [
            "Mounted at /content/drive\n"
          ]
        }
      ]
    },
    {
      "cell_type": "code",
      "metadata": {
        "id": "1SECTaLxIdCq"
      },
      "source": [
        "# ------------------------ TEST Model Verification -----------------------------\n",
        "#\n",
        "# ************************ Load the data ***************************************\n",
        "# Load the data that you want to classify from an image file into the variable:\n",
        "# my_image.\n",
        "#from google.colab import files # Use to load data on Google Colab\n",
        "# my_image = plt.imread(\"cat.jpg\") #Read in the image (3, 14, 20)\n",
        "#from google.colab import files\n",
        "#from IPython.display import Image\n",
        "#uploaded = files.upload()\n",
        "\n",
        "# Display Image\n",
        "#img = mpimg.imread(\"cat.png\")\n",
        "import matplotlib.pyplot as plt\n",
        "import matplotlib.image as mpimg\n",
        "my_image=mpimg.imread('/content/drive/MyDrive/dog.jpg')"
      ],
      "execution_count": 94,
      "outputs": []
    },
    {
      "cell_type": "code",
      "metadata": {
        "id": "BO8lmkrCJBn7",
        "colab": {
          "base_uri": "https://localhost:8080/",
          "height": 256
        },
        "outputId": "c26719e3-6efc-4864-82de-35c3d81444a3"
      },
      "source": [
        "#Show the image\n",
        "plt.imshow(my_image)"
      ],
      "execution_count": 95,
      "outputs": [
        {
          "output_type": "execute_result",
          "data": {
            "text/plain": [
              "<matplotlib.image.AxesImage at 0x7f730976d150>"
            ]
          },
          "metadata": {},
          "execution_count": 95
        },
        {
          "output_type": "display_data",
          "data": {
            "image/png": "[encoded data removed]",
            "text/plain": [
              "<Figure size 432x288 with 1 Axes>"
            ]
          },
          "metadata": {
            "needs_background": "light"
          }
        }
      ]
    },
    {
      "cell_type": "markdown",
      "metadata": {
        "id": "qUq8fIfDLI7M"
      },
      "source": [
        "![alt text](https://miro.medium.com/max/1420/1*SLhsv6YDgEKswRtf29coPw.png)\n",
        "\n",
        "Image of a cat that was uploaded"
      ]
    },
    {
      "cell_type": "code",
      "metadata": {
        "id": "Z64iSsjXJGyO",
        "colab": {
          "base_uri": "https://localhost:8080/",
          "height": 283
        },
        "outputId": "69df7dab-2d16-44d5-c603-e4b3a490132a"
      },
      "source": [
        "# ********************* Resize the image **************************************\n",
        "# Resize the image to a 32 x 32 pixel image with depth = 3, and show the image.\n",
        "from skimage.transform import resize\n",
        "my_image_resized = resize(my_image, (32,32,3)) \n",
        "plt.imshow(my_image_resized)"
      ],
      "execution_count": 96,
      "outputs": [
        {
          "output_type": "execute_result",
          "data": {
            "text/plain": [
              "<matplotlib.image.AxesImage at 0x7f7309731390>"
            ]
          },
          "metadata": {},
          "execution_count": 96
        },
        {
          "output_type": "display_data",
          "data": {
            "image/png": "[encoded data removed]",
            "text/plain": [
              "<Figure size 432x288 with 1 Axes>"
            ]
          },
          "metadata": {
            "needs_background": "light"
          }
        }
      ]
    },
    {
      "cell_type": "markdown",
      "metadata": {
        "id": "1CxRVZJZLQSE"
      },
      "source": [
        "![alt text](https://miro.medium.com/max/990/1*3GQqEuGOyYxTQOknU47DPg.png)\n",
        "\n",
        "The resized image"
      ]
    },
    {
      "cell_type": "code",
      "metadata": {
        "id": "vrG_fNvrJf3q",
        "colab": {
          "base_uri": "https://localhost:8080/"
        },
        "outputId": "15a519c2-5787-434c-f692-03497968d4a7"
      },
      "source": [
        "# ******************** Probabilties ********************************************\n",
        "# Get the probabilities for each class and store it into a variable.\n",
        "import numpy as np\n",
        "probabilities = model.predict(np.array( [my_image_resized,] ))\n",
        "# Show the probabilities\n",
        "probabilities"
      ],
      "execution_count": 97,
      "outputs": [
        {
          "output_type": "execute_result",
          "data": {
            "text/plain": [
              "array([[3.4708017e-05, 4.4117368e-08, 2.2675886e-03, 5.8200711e-01,\n",
              "        2.8645110e-03, 2.6680455e-01, 1.7335260e-05, 1.4536558e-01,\n",
              "        1.5628098e-05, 6.2296336e-04]], dtype=float32)"
            ]
          },
          "metadata": {},
          "execution_count": 97
        }
      ]
    },
    {
      "cell_type": "code",
      "metadata": {
        "id": "PxZdwOdwJqSw"
      },
      "source": [
        "# ******************* Add label ************************************************\n",
        "# Add the label of the classes to an array in the index of the labels corresponding equivalent number. \n",
        "# For example ‘airplane’ will be located at index=0 , because the corresponding \n",
        "# label as a number is 0.\n",
        "number_to_class = ['airplane', 'automobile', 'bird', 'cat', 'deer', 'dog', 'frog', 'horse', 'ship', 'truck']"
      ],
      "execution_count": 98,
      "outputs": []
    },
    {
      "cell_type": "code",
      "metadata": {
        "id": "SGIK_jAjJ27n"
      },
      "source": [
        "# ******************* Sort probabilities ***************************************\n",
        "# Sort the probabilities from least to greatest such that the highest \n",
        "# probability is at index=9 and the lowest probability is at index = 0.\n",
        "index = np.argsort(probabilities[0,:])"
      ],
      "execution_count": 99,
      "outputs": []
    },
    {
      "cell_type": "code",
      "metadata": {
        "id": "mdHPoN41KKJf",
        "colab": {
          "base_uri": "https://localhost:8080/"
        },
        "outputId": "866f31f6-19fe-4780-cc4f-f5190c077cf4"
      },
      "source": [
        "# ****************** Print probabilities ***************************************\n",
        "# Print the first 5 most likely classes and the corresponding probability.\n",
        "print(\"Most likely class:\", number_to_class[index[9]], \"-- Probability:\", probabilities[0,index[9]])\n",
        "print(\"Second most likely class:\", number_to_class[index[8]], \"-- Probability:\", probabilities[0,index[8]])\n",
        "print(\"Third most likely class:\", number_to_class[index[7]], \"-- Probability:\", probabilities[0,index[7]])\n",
        "print(\"Fourth most likely class:\", number_to_class[index[6]], \"-- Probability:\", probabilities[0,index[6]])\n",
        "print(\"Fifth most likely class:\", number_to_class[index[5]], \"-- Probability:\", probabilities[0,index[5]])\n",
        "print(\"Fifth most likely class:\", number_to_class[index[4]], \"-- Probability:\", probabilities[0,index[4]])\n",
        "print(\"Fifth most likely class:\", number_to_class[index[3]], \"-- Probability:\", probabilities[0,index[3]])\n",
        "print(\"Fifth most likely class:\", number_to_class[index[2]], \"-- Probability:\", probabilities[0,index[2]])\n",
        "print(\"Fifth most likely class:\", number_to_class[index[1]], \"-- Probability:\", probabilities[0,index[1]])\n",
        "print(\"Fifth most likely class:\", number_to_class[index[0]], \"-- Probability:\", probabilities[0,index[0]])"
      ],
      "execution_count": 102,
      "outputs": [
        {
          "output_type": "stream",
          "name": "stdout",
          "text": [
            "Most likely class: cat -- Probability: 0.5820071\n",
            "Second most likely class: dog -- Probability: 0.26680455\n",
            "Third most likely class: horse -- Probability: 0.14536558\n",
            "Fourth most likely class: deer -- Probability: 0.002864511\n",
            "Fifth most likely class: bird -- Probability: 0.0022675886\n",
            "Fifth most likely class: truck -- Probability: 0.00062296336\n",
            "Fifth most likely class: airplane -- Probability: 3.4708017e-05\n",
            "Fifth most likely class: frog -- Probability: 1.733526e-05\n",
            "Fifth most likely class: ship -- Probability: 1.5628098e-05\n",
            "Fifth most likely class: automobile -- Probability: 4.4117368e-08\n"
          ]
        }
      ]
    },
    {
      "cell_type": "code",
      "metadata": {
        "id": "sRC30v0tKfXk"
      },
      "source": [
        "# ******************* Save Model ***********************************************\n",
        "# Looks like this model was able to accurately classify the given image as a cat\n",
        "# with 94.89 % likelihood. This is good, but from the metrics that were gathered \n",
        "# earlier, this model isn’t very accurate, it has an accuracy of only 67.36%. \n",
        "# So although the accuracy is better than guessing it could still benefit \n",
        "# greatly with possibly more training data, and some fine tuning of the model.\n",
        "\n",
        "#Let’s save this model for later use.\n",
        "#To save this model \n",
        "model.save('my_model.h5')"
      ],
      "execution_count": 103,
      "outputs": []
    },
    {
      "cell_type": "code",
      "metadata": {
        "id": "2CfdkfZMKtiK"
      },
      "source": [
        "# ****************** Load model ************************************************\n",
        "# To load this model later, without having to train a brand new one, \n",
        "# you can do the following.\n",
        "#To load this model\n",
        "from keras.models import load_model\n",
        "model = load_model('my_model.h5')"
      ],
      "execution_count": 93,
      "outputs": []
    }
  ]
}